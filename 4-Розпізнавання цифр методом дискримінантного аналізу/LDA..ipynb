{
 "cells": [
  {
   "attachments": {},
   "cell_type": "markdown",
   "metadata": {},
   "source": [
    "### Linear Discriminant Analysis for Machine Learning Anastasiia Matychenko"
   ]
  },
  {
   "attachments": {},
   "cell_type": "markdown",
   "metadata": {},
   "source": [
    "Creating two digits. (0,1)"
   ]
  },
  {
   "cell_type": "code",
   "execution_count": 1,
   "metadata": {},
   "outputs": [],
   "source": [
    "import numpy as np\n",
    "#creation of reference figures\n",
    "\n",
    "# zero\n",
    "def digit_zero(N1,N2):\n",
    "    zero = np.zeros((N1, N2))\n",
    "    for i in range(N1):\n",
    "        for j in range(N2):\n",
    "            if (i == 0 or i == N1 - 1) and 0 < j < N2 - 2:\n",
    "                zero[i, 6:9] = 1\n",
    "            elif j == 5 or j == N2 - 6:\n",
    "                zero[i, j] = 1\n",
    "    return zero\n",
    "\n",
    "# one\n",
    "def digit_one(N1,N2):\n",
    "    one = np.zeros((N1, N2))\n",
    "    for i in range(N1):\n",
    "        if N1 - 1 > i >= 0:\n",
    "            one[i, 7] = 1\n",
    "        elif i == N1 - 1:\n",
    "            for j in range(5, N2 - 5, 1):\n",
    "                one[i, j] = 1\n",
    "        else:\n",
    "            one[i, j] = 0\n",
    "            one[1, 6] = 1\n",
    "            one[2, 5] = 1\n",
    "    return one\n"
   ]
  },
  {
   "attachments": {},
   "cell_type": "markdown",
   "metadata": {},
   "source": [
    "Load libraries"
   ]
  },
  {
   "cell_type": "code",
   "execution_count": 4,
   "metadata": {},
   "outputs": [],
   "source": [
    "import skimage.io as io\n",
    "from skimage.util import random_noise\n",
    "from scipy.spatial import distance"
   ]
  },
  {
   "attachments": {},
   "cell_type": "markdown",
   "metadata": {},
   "source": [
    "Size of digits"
   ]
  },
  {
   "cell_type": "code",
   "execution_count": 7,
   "metadata": {},
   "outputs": [],
   "source": [
    "N1, N2 = 9, 15\n",
    "zero = digit_zero(N1, N2)\n",
    "one = digit_one(N1, N2)"
   ]
  },
  {
   "attachments": {},
   "cell_type": "markdown",
   "metadata": {},
   "source": [
    "### Adding noise and calculating "
   ]
  },
  {
   "attachments": {},
   "cell_type": "markdown",
   "metadata": {},
   "source": [
    "The Hamming distance between two blocks of the same length is the number of different positions"
   ]
  },
  {
   "cell_type": "code",
   "execution_count": 5,
   "metadata": {},
   "outputs": [],
   "source": [
    " # generate digital with noise\n",
    "def Generate_digitals(digit, noise=0.3):\n",
    "    digit_noise = random_noise(digit, mode='s&p', amount=noise)\n",
    "    # make a comparison using th eHamming coefficient\n",
    "    hamming_coef = 1 - distance.hamming(digit.reshape(N1 * N2, 1), digit_noise.reshape(N1 * N2, 1))\n",
    "    return digit_noise, hamming_coef"
   ]
  },
  {
   "attachments": {},
   "cell_type": "markdown",
   "metadata": {},
   "source": [
    "Results "
   ]
  },
  {
   "cell_type": "code",
   "execution_count": 8,
   "metadata": {},
   "outputs": [],
   "source": [
    "def Task(digit=zero, noise=0.3, sample=10):\n",
    "    # show digit\n",
    "    print(\"Number\", digit, sep=\"\\n\")\n",
    "    io.imshow(digit)\n",
    "    io.show()\n",
    "    for i in range(sample):\n",
    "        digit_noise, hamming_coef = Generate_digitals(digit, noise)\n",
    "        print(\"Number hamming factor:\", hamming_coef)\n"
   ]
  },
  {
   "cell_type": "code",
   "execution_count": 10,
   "metadata": {},
   "outputs": [
    {
     "name": "stdout",
     "output_type": "stream",
     "text": [
      "Number\n",
      "[[0. 0. 0. 0. 0. 0. 1. 1. 1. 0. 0. 0. 0. 0. 0.]\n",
      " [0. 0. 0. 0. 0. 1. 0. 0. 0. 1. 0. 0. 0. 0. 0.]\n",
      " [0. 0. 0. 0. 0. 1. 0. 0. 0. 1. 0. 0. 0. 0. 0.]\n",
      " [0. 0. 0. 0. 0. 1. 0. 0. 0. 1. 0. 0. 0. 0. 0.]\n",
      " [0. 0. 0. 0. 0. 1. 0. 0. 0. 1. 0. 0. 0. 0. 0.]\n",
      " [0. 0. 0. 0. 0. 1. 0. 0. 0. 1. 0. 0. 0. 0. 0.]\n",
      " [0. 0. 0. 0. 0. 1. 0. 0. 0. 1. 0. 0. 0. 0. 0.]\n",
      " [0. 0. 0. 0. 0. 1. 0. 0. 0. 1. 0. 0. 0. 0. 0.]\n",
      " [0. 0. 0. 0. 0. 0. 1. 1. 1. 0. 0. 0. 0. 0. 0.]]\n"
     ]
    },
    {
     "data": {
      "image/png": "[encoded data removed]",
      "text/plain": [
       "<Figure size 432x288 with 1 Axes>"
      ]
     },
     "metadata": {
      "needs_background": "light"
     },
     "output_type": "display_data"
    },
    {
     "name": "stdout",
     "output_type": "stream",
     "text": [
      "Number hamming factor: 0.9037037037037037\n",
      "Number hamming factor: 0.8592592592592593\n",
      "Number hamming factor: 0.7925925925925926\n",
      "Number hamming factor: 0.8888888888888888\n",
      "Number hamming factor: 0.9407407407407408\n",
      "Number hamming factor: 0.8296296296296296\n",
      "Number hamming factor: 0.7925925925925926\n",
      "Number hamming factor: 0.8444444444444444\n",
      "Number hamming factor: 0.8814814814814815\n",
      "Number hamming factor: 0.8444444444444444\n"
     ]
    }
   ],
   "source": [
    "Task(zero)"
   ]
  },
  {
   "cell_type": "code",
   "execution_count": 11,
   "metadata": {},
   "outputs": [
    {
     "name": "stdout",
     "output_type": "stream",
     "text": [
      "Number\n",
      "[[0. 0. 0. 0. 0. 0. 0. 1. 0. 0. 0. 0. 0. 0. 0.]\n",
      " [0. 0. 0. 0. 0. 0. 0. 1. 0. 0. 0. 0. 0. 0. 0.]\n",
      " [0. 0. 0. 0. 0. 0. 0. 1. 0. 0. 0. 0. 0. 0. 0.]\n",
      " [0. 0. 0. 0. 0. 0. 0. 1. 0. 0. 0. 0. 0. 0. 0.]\n",
      " [0. 0. 0. 0. 0. 0. 0. 1. 0. 0. 0. 0. 0. 0. 0.]\n",
      " [0. 0. 0. 0. 0. 0. 0. 1. 0. 0. 0. 0. 0. 0. 0.]\n",
      " [0. 0. 0. 0. 0. 0. 0. 1. 0. 0. 0. 0. 0. 0. 0.]\n",
      " [0. 0. 0. 0. 0. 0. 0. 1. 0. 0. 0. 0. 0. 0. 0.]\n",
      " [0. 0. 0. 0. 0. 1. 1. 1. 1. 1. 0. 0. 0. 0. 0.]]\n"
     ]
    },
    {
     "data": {
      "image/png": "[encoded data removed]",
      "text/plain": [
       "<Figure size 432x288 with 1 Axes>"
      ]
     },
     "metadata": {
      "needs_background": "light"
     },
     "output_type": "display_data"
    },
    {
     "name": "stdout",
     "output_type": "stream",
     "text": [
      "Number hamming factor: 0.7777777777777778\n",
      "Number hamming factor: 0.837037037037037\n",
      "Number hamming factor: 0.8296296296296296\n",
      "Number hamming factor: 0.8814814814814815\n",
      "Number hamming factor: 0.8666666666666667\n",
      "Number hamming factor: 0.8814814814814815\n",
      "Number hamming factor: 0.8666666666666667\n",
      "Number hamming factor: 0.8666666666666667\n",
      "Number hamming factor: 0.8666666666666667\n",
      "Number hamming factor: 0.8814814814814815\n"
     ]
    }
   ],
   "source": [
    "Task(one)"
   ]
  },
  {
   "cell_type": "code",
   "execution_count": 12,
   "metadata": {},
   "outputs": [
    {
     "name": "stdout",
     "output_type": "stream",
     "text": [
      "Number\n",
      "[[0. 0. 0. 0. 0. 0. 1. 1. 1. 0. 0. 0. 0. 0. 0.]\n",
      " [0. 0. 0. 0. 0. 1. 0. 0. 0. 1. 0. 0. 0. 0. 0.]\n",
      " [0. 0. 0. 0. 0. 1. 0. 0. 0. 1. 0. 0. 0. 0. 0.]\n",
      " [0. 0. 0. 0. 0. 1. 0. 0. 0. 1. 0. 0. 0. 0. 0.]\n",
      " [0. 0. 0. 0. 0. 1. 0. 0. 0. 1. 0. 0. 0. 0. 0.]\n",
      " [0. 0. 0. 0. 0. 1. 0. 0. 0. 1. 0. 0. 0. 0. 0.]\n",
      " [0. 0. 0. 0. 0. 1. 0. 0. 0. 1. 0. 0. 0. 0. 0.]\n",
      " [0. 0. 0. 0. 0. 1. 0. 0. 0. 1. 0. 0. 0. 0. 0.]\n",
      " [0. 0. 0. 0. 0. 0. 1. 1. 1. 0. 0. 0. 0. 0. 0.]]\n"
     ]
    },
    {
     "data": {
      "image/png": "[encoded data removed]",
      "text/plain": [
       "<Figure size 432x288 with 1 Axes>"
      ]
     },
     "metadata": {
      "needs_background": "light"
     },
     "output_type": "display_data"
    },
    {
     "name": "stdout",
     "output_type": "stream",
     "text": [
      "Number hamming factor: 0.7925925925925926\n",
      "Number hamming factor: 0.8518518518518519\n",
      "Number hamming factor: 0.8148148148148149\n",
      "Number hamming factor: 0.7037037037037037\n",
      "Number hamming factor: 0.837037037037037\n",
      "Number hamming factor: 0.8296296296296296\n",
      "Number hamming factor: 0.8222222222222222\n",
      "Number hamming factor: 0.8148148148148149\n",
      "Number hamming factor: 0.7925925925925926\n",
      "Number hamming factor: 0.762962962962963\n"
     ]
    }
   ],
   "source": [
    "Task(zero, 0.4)#параметр шуму"
   ]
  },
  {
   "cell_type": "code",
   "execution_count": 13,
   "metadata": {},
   "outputs": [
    {
     "name": "stdout",
     "output_type": "stream",
     "text": [
      "Number\n",
      "[[0. 0. 0. 0. 0. 0. 0. 1. 0. 0. 0. 0. 0. 0. 0.]\n",
      " [0. 0. 0. 0. 0. 0. 0. 1. 0. 0. 0. 0. 0. 0. 0.]\n",
      " [0. 0. 0. 0. 0. 0. 0. 1. 0. 0. 0. 0. 0. 0. 0.]\n",
      " [0. 0. 0. 0. 0. 0. 0. 1. 0. 0. 0. 0. 0. 0. 0.]\n",
      " [0. 0. 0. 0. 0. 0. 0. 1. 0. 0. 0. 0. 0. 0. 0.]\n",
      " [0. 0. 0. 0. 0. 0. 0. 1. 0. 0. 0. 0. 0. 0. 0.]\n",
      " [0. 0. 0. 0. 0. 0. 0. 1. 0. 0. 0. 0. 0. 0. 0.]\n",
      " [0. 0. 0. 0. 0. 0. 0. 1. 0. 0. 0. 0. 0. 0. 0.]\n",
      " [0. 0. 0. 0. 0. 1. 1. 1. 1. 1. 0. 0. 0. 0. 0.]]\n"
     ]
    },
    {
     "data": {
      "image/png": "[encoded data removed]",
      "text/plain": [
       "<Figure size 432x288 with 1 Axes>"
      ]
     },
     "metadata": {
      "needs_background": "light"
     },
     "output_type": "display_data"
    },
    {
     "name": "stdout",
     "output_type": "stream",
     "text": [
      "Number hamming factor: 0.8222222222222222\n",
      "Number hamming factor: 0.7481481481481482\n",
      "Number hamming factor: 0.8518518518518519\n",
      "Number hamming factor: 0.8\n",
      "Number hamming factor: 0.7407407407407407\n",
      "Number hamming factor: 0.7925925925925926\n",
      "Number hamming factor: 0.7777777777777778\n",
      "Number hamming factor: 0.8148148148148149\n",
      "Number hamming factor: 0.7777777777777778\n",
      "Number hamming factor: 0.8518518518518519\n"
     ]
    }
   ],
   "source": [
    "Task(one, 0.4)"
   ]
  }
 ],
 "metadata": {
  "kernelspec": {
   "display_name": "base",
   "language": "python",
   "name": "python3"
  },
  "language_info": {
   "codemirror_mode": {
    "name": "ipython",
    "version": 3
   },
   "file_extension": ".py",
   "mimetype": "text/x-python",
   "name": "python",
   "nbconvert_exporter": "python",
   "pygments_lexer": "ipython3",
   "version": "3.9.7"
  },
  "orig_nbformat": 4
 },
 "nbformat": 4,
 "nbformat_minor": 2
}
